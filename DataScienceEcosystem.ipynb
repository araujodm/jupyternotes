{
 "cells": [
  {
   "cell_type": "markdown",
   "id": "303412e2-a26f-4976-b716-3dbe657575ea",
   "metadata": {},
   "source": [
    "# Data Science Tools and Ecosystem"
   ]
  },
  {
   "cell_type": "markdown",
   "id": "ec832ad5-b9b5-4ed0-b59f-086cfb03510a",
   "metadata": {},
   "source": [
    "In this notebook, Data Science Tools and Ecosystem are summarized."
   ]
  },
  {
   "cell_type": "markdown",
   "id": "3353fb67-92f2-49d5-8238-4f127f273467",
   "metadata": {},
   "source": [
    "**Objectives:**\n",
    "* List popular languages for Data Science\n",
    "* List popular libraries for DS\n",
    "* List DS Tools"
   ]
  },
  {
   "cell_type": "markdown",
   "id": "09efff25-947a-4d9b-b9e7-d1e71e64c599",
   "metadata": {},
   "source": [
    "Some of the popular languages that Data Scientists use are:"
   ]
  },
  {
   "cell_type": "markdown",
   "id": "5d0a4eed-df67-4a9b-8042-30395153aead",
   "metadata": {},
   "source": [
    "Python, R and SQL"
   ]
  },
  {
   "cell_type": "markdown",
   "id": "9b32eca1-2307-4262-9a08-2afe54960ce9",
   "metadata": {},
   "source": [
    "Some of the commonly used libraries used by Data Scientists include:"
   ]
  },
  {
   "cell_type": "markdown",
   "id": "39a547f4-5206-47a3-904b-9fba910249b7",
   "metadata": {},
   "source": [
    "Pandas, Numpy, Matplotlib, Seaborn, Scikit-learning , Keras, TensorFlow & PyTorch"
   ]
  },
  {
   "cell_type": "markdown",
   "id": "af8a1a89-3dc4-429c-acca-bfccb20d0a71",
   "metadata": {},
   "source": [
    "|Data Science Tools|\n",
    "|------------------|\n",
    "|Jupyter Notebook|\n",
    "|RS Studio|\n",
    "|VS Code|"
   ]
  },
  {
   "cell_type": "markdown",
   "id": "b8bd9ea2-7b73-4033-97e0-ca745022bdf6",
   "metadata": {},
   "source": [
    "### Below are a few examples of evaluating arithmetic expressions in Python"
   ]
  },
  {
   "cell_type": "code",
   "execution_count": 13,
   "id": "6448e011-4e97-4433-b62c-6f7ce851ef0b",
   "metadata": {},
   "outputs": [
    {
     "data": {
      "text/plain": [
       "17"
      ]
     },
     "execution_count": 13,
     "metadata": {},
     "output_type": "execute_result"
    }
   ],
   "source": [
    "#This a simple arithmetic expression to mutiply then add integers\n",
    "(3*4)+5\n"
   ]
  },
  {
   "cell_type": "code",
   "execution_count": 15,
   "id": "d19a2c0b-e996-4976-aba8-f8b86671c550",
   "metadata": {},
   "outputs": [
    {
     "data": {
      "text/plain": [
       "3.3333333333333335"
      ]
     },
     "execution_count": 15,
     "metadata": {},
     "output_type": "execute_result"
    }
   ],
   "source": [
    "#This will convert 200 minutes to hours by diving by 60\n",
    "200/60"
   ]
  },
  {
   "cell_type": "markdown",
   "id": "a02c7f67-6223-438d-9817-57550dd0b3e2",
   "metadata": {},
   "source": [
    "## Author"
   ]
  },
  {
   "cell_type": "markdown",
   "id": "a61a701b-32fd-4b82-bffe-158c542121a4",
   "metadata": {},
   "source": [
    "Danìel M Araujo"
   ]
  },
  {
   "cell_type": "code",
   "execution_count": null,
   "id": "3d867689-decf-46dc-9b6c-d178d703b52f",
   "metadata": {},
   "outputs": [],
   "source": []
  }
 ],
 "metadata": {
  "kernelspec": {
   "display_name": "Python 3 (ipykernel)",
   "language": "python",
   "name": "python3"
  },
  "language_info": {
   "codemirror_mode": {
    "name": "ipython",
    "version": 3
   },
   "file_extension": ".py",
   "mimetype": "text/x-python",
   "name": "python",
   "nbconvert_exporter": "python",
   "pygments_lexer": "ipython3",
   "version": "3.12.4"
  }
 },
 "nbformat": 4,
 "nbformat_minor": 5
}
